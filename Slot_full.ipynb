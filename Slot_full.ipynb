{
 "cells": [
  {
   "cell_type": "code",
   "execution_count": 10,
   "metadata": {
    "id": "Cd4VYQOqpsTQ"
   },
   "outputs": [],
   "source": [
    "import torch\n",
    "import torch.nn as nn\n",
    "import torch.nn.functional as F\n",
    "import torch.optim as optim\n",
    "import torchvision\n",
    "from torchvision import datasets, models, transforms\n",
    "import torchvision.transforms as transforms\n",
    "from torch.utils.data import Dataset\n",
    "from torchvision.io import read_image\n",
    "import matplotlib.pyplot as plt\n",
    "import matplotlib.cm as mpl_color_map\n",
    "import numpy as np\n",
    "import pandas as pd\n",
    "import time\n",
    "import os\n",
    "import copy\n",
    "import math\n",
    "from PIL import Image"
   ]
  },
  {
   "cell_type": "markdown",
   "metadata": {
    "id": "D4_sxnERZMav"
   },
   "source": [
    "## Create Dataset"
   ]
  },
  {
   "cell_type": "code",
   "execution_count": 11,
   "metadata": {
    "id": "y02InYzsZMaz"
   },
   "outputs": [],
   "source": [
    "class AVADataSet(Dataset):\n",
    "    def __init__(self, csv, img_dir, transform, target_var):\n",
    "        self.img_labels = csv\n",
    "        self.img_dir = img_dir\n",
    "        self.transform = transform\n",
    "        self.target_var = target_var\n",
    "\n",
    "    def __len__(self):\n",
    "        return len(self.img_labels.index)\n",
    "\n",
    "    def __getitem__(self, idx):\n",
    "        trans = transforms.Lambda(lambda x: x.repeat(3, 1, 1) if x.size(0)==1 else x)\n",
    "        img_name = str(self.img_labels.loc[idx, 'image']) + '.jpg'\n",
    "        img_path = os.path.join(self.img_dir, img_name)\n",
    "\n",
    "        image = read_image(img_path)\n",
    "        image = trans(image).to(torch.float64)/255\n",
    "        if image.size(0) != 3:\n",
    "            image = image[0:3]\n",
    "\n",
    "        image = self.transform(image)\n",
    "        # get label form csv\n",
    "        label = self.img_labels.loc[idx, self.target_var]\n",
    "        return image, label\n",
    "    def get_name(self, idx):\n",
    "        img_name = str(self.img_labels.loc[idx, 'image']) + '.jpg'\n",
    "        label = self.img_labels.loc[idx, self.target_var]\n",
    "        return img_name, label"
   ]
  },
  {
   "cell_type": "markdown",
   "metadata": {
    "id": "uWYkHMgKZMa0"
   },
   "source": [
    "## Load data"
   ]
  },
  {
   "cell_type": "code",
   "execution_count": 12,
   "metadata": {
    "id": "RdCbFrHCoBc1"
   },
   "outputs": [],
   "source": [
    "AVA = True\n",
    "batch_size = 100"
   ]
  },
  {
   "cell_type": "code",
   "execution_count": 13,
   "metadata": {
    "id": "VIBm0w7NoKx3"
   },
   "outputs": [],
   "source": [
    "if AVA == False:\n",
    "    transform = transforms.Compose(\n",
    "        [\n",
    "            transforms.ToTensor(),\n",
    "            transforms.Resize([224, 224]),\n",
    "            transforms.Normalize((0.5, 0.5, 0.5), (0.5, 0.5, 0.5)),\n",
    "        ]\n",
    "    )\n",
    "\n",
    "    dataset = torchvision.datasets.CIFAR10(\n",
    "        root=\"./data\", train=True, download=True, transform=transform\n",
    "    )\n",
    "    testset = torchvision.datasets.CIFAR10(\n",
    "        root=\"./data\", train=False, download=True, transform=transform\n",
    "    )\n",
    "    val_size = 5000\n",
    "    train_size = len(dataset) - val_size\n",
    "    trainset, valset = torch.utils.data.random_split(dataset, [train_size, val_size])\n",
    "\n",
    "    trainloader = torch.utils.data.DataLoader(\n",
    "        trainset, batch_size=batch_size, shuffle=True, num_workers=2\n",
    "    )\n",
    "\n",
    "    valloader = torch.utils.data.DataLoader(\n",
    "        valset, batch_size=batch_size, shuffle=True, num_workers=2\n",
    "    )\n",
    "\n",
    "    testloader = torch.utils.data.DataLoader(\n",
    "        testset, batch_size=batch_size, shuffle=True, num_workers=2\n",
    "    )"
   ]
  },
  {
   "cell_type": "code",
   "execution_count": 14,
   "metadata": {
    "id": "BZ5JfW8tVKcf"
   },
   "outputs": [],
   "source": [
    "if AVA == True:\n",
    "    transform = transforms.Compose(\n",
    "        [\n",
    "            #transforms.ToTensor(),\n",
    "            transforms.Resize([224, 224]),\n",
    "            transforms.Normalize((0.5, 0.5, 0.5), (0.5, 0.5, 0.5)),\n",
    "        ]\n",
    "    )\n",
    "    data = pd.read_csv(\"datasets/data_class.csv\")\n",
    "\n",
    "    train_data = data.sample(frac=0.75)\n",
    "    rest = data.drop(train_data.index)\n",
    "    val_data = rest.sample(frac=0.5)\n",
    "    test_data = rest.drop(val_data.index)\n",
    "\n",
    "    train_dataset = AVADataSet(\n",
    "        train_data.reset_index(),\n",
    "        \"dataset_class\",\n",
    "        transform=transform,\n",
    "        target_var=\"2class\",\n",
    "    )\n",
    "    val_dataset = AVADataSet(\n",
    "        val_data.reset_index(),\n",
    "        \"dataset_class\",\n",
    "        transform=transform,\n",
    "        target_var=\"2class\",\n",
    "    )\n",
    "    test_dataset = AVADataSet(\n",
    "        test_data.reset_index(),\n",
    "        \"dataset_class\",\n",
    "        transform=transform,\n",
    "        target_var=\"2class\",\n",
    "    )\n",
    "\n",
    "\n",
    "    trainloader = torch.utils.data.DataLoader(\n",
    "        train_dataset, batch_size=batch_size, shuffle=True, num_workers=0\n",
    "    )\n",
    "\n",
    "    valloader = torch.utils.data.DataLoader(\n",
    "        val_dataset, batch_size=batch_size, shuffle=True, num_workers=0\n",
    "    )\n",
    "\n",
    "    testloader = torch.utils.data.DataLoader(\n",
    "        test_dataset, batch_size=batch_size, shuffle=True, num_workers=0\n",
    "    )"
   ]
  },
  {
   "cell_type": "markdown",
   "metadata": {
    "id": "Oy3V5K1iWGEX"
   },
   "source": [
    "## Define modules for network"
   ]
  },
  {
   "cell_type": "code",
   "execution_count": 15,
   "metadata": {
    "id": "RQoagNzupvvF"
   },
   "outputs": [],
   "source": [
    "class SlotAttention(nn.Module):\n",
    "    \"\"\"\n",
    "    This function is heavily build on the function proposed in the article \"SCOUTER: Slot Attention-based Classifier for Explainable Image Recognition\", 2021\n",
    "    by Liangzhi Li and Bowen Wang and Manisha Verma and Yuta Nakashima and Ryo Kawasaki and Hajime Nagahara\n",
    "    from the book \"IEEE International Conference on Computer Vision (ICCV)\"\n",
    "    The original function can be found on https://github.com/wbw520/scouter\n",
    "    \"\"\"\n",
    "\n",
    "    def __init__(self, num_classes, dim, iters=3, eps=1e-8, power=2):\n",
    "        super().__init__()\n",
    "        self.num_classes = num_classes\n",
    "        self.iters = iters\n",
    "        self.eps = eps\n",
    "        self.scale = dim**-0.5\n",
    "        self.power = power\n",
    "\n",
    "        mu = nn.Parameter(torch.randn(1, 1, dim)).expand(1, self.num_classes, -1)\n",
    "        sigma = abs(nn.Parameter(torch.randn(1, 1, dim))).expand(\n",
    "            1, self.num_classes, -1\n",
    "        )\n",
    "        self.initial_slots = nn.Parameter(torch.normal(mu, sigma))\n",
    "\n",
    "        self.FC1 = nn.Sequential(\n",
    "            nn.Linear(dim, dim),\n",
    "            nn.ReLU(inplace=True),\n",
    "            nn.Linear(dim, dim),\n",
    "            nn.ReLU(inplace=True),\n",
    "            nn.Linear(dim, dim),\n",
    "        )\n",
    "\n",
    "        self.FC2 = nn.Sequential(\n",
    "            nn.Linear(dim, dim),\n",
    "            nn.ReLU(inplace=True),\n",
    "            nn.Linear(dim, dim),\n",
    "            nn.ReLU(inplace=True),\n",
    "            nn.Linear(dim, dim),\n",
    "        )\n",
    "\n",
    "        self.gru = nn.GRU(dim, dim)\n",
    "\n",
    "    def dot_attention(self, slots, inputs):\n",
    "        dots = torch.einsum(\"bid,bjd->bij\", slots, inputs) * self.scale\n",
    "        div = torch.div(\n",
    "            dots, dots.sum(2).expand_as(dots.permute([2, 0, 1])).permute([1, 2, 0])\n",
    "        )\n",
    "        mult = dots.sum(2).sum(1).expand_as(dots.permute([1, 2, 0])).permute([2, 0, 1])\n",
    "        return div * mult\n",
    "\n",
    "    def save_slot(self, slots):\n",
    "        out = (slots - slots.min()) / (slots.max() - slots.min()) * 255.0\n",
    "        out = out.reshape(\n",
    "            out.shape[:1] + (int(out.size(1) ** 0.5), int(out.size(1) ** 0.5))\n",
    "        )\n",
    "        out = (out.cpu().detach().numpy()).astype(np.uint8)\n",
    "        for i, image in enumerate(out):\n",
    "            image = Image.fromarray(image, mode=\"L\")\n",
    "            image.save(f\"slot_{i:d}.png\")\n",
    "\n",
    "    def forward(self, inputs, inputs_x):\n",
    "        batch, channels, elements = inputs.shape\n",
    "        slots = self.initial_slots.expand(batch, -1, -1)\n",
    "        inputs = self.FC1(inputs)\n",
    "\n",
    "        for _ in range(self.iters):\n",
    "            prev_slots = slots\n",
    "\n",
    "            slots = self.FC2(slots)\n",
    "\n",
    "            dots = self.dot_attention(slots, inputs)\n",
    "            attn = torch.sigmoid(dots)\n",
    "\n",
    "            updates = torch.einsum(\"bjd,bij->bid\", inputs_x, attn)\n",
    "            updates = updates / inputs_x.size(2)\n",
    "\n",
    "            self.gru.flatten_parameters()\n",
    "            slots, _ = self.gru(\n",
    "                updates.reshape(1, -1, elements), prev_slots.reshape(1, -1, elements)\n",
    "            )\n",
    "\n",
    "            slots = slots.reshape(batch, -1, elements)\n",
    "\n",
    "        slots_vis = attn.clone()\n",
    "        slots_vis = slots_vis[0]\n",
    "\n",
    "        self.save_slot(slots_vis)\n",
    "\n",
    "        attn_relu = torch.relu(attn)\n",
    "        loss = torch.sum(attn_relu) / attn.size(0) / attn.size(1) / attn.size(2)\n",
    "        loss = torch.pow(loss, self.power)\n",
    "        output = torch.sum(updates, dim=2, keepdim=False)\n",
    "\n",
    "        return output, loss\n",
    "\n",
    "\n",
    "class PositionEmbeddingSine(nn.Module):\n",
    "    \"\"\"\n",
    "    This function is the same as the function proposed in the article \"SCOUTER: Slot Attention-based Classifier for Explainable Image Recognition\", 2021\n",
    "    by Liangzhi Li and Bowen Wang and Manisha Verma and Yuta Nakashima and Ryo Kawasaki and Hajime Nagahara\n",
    "    from the book \"IEEE International Conference on Computer Vision (ICCV)\"\n",
    "    The original function can be found on https://github.com/wbw520/scouter\n",
    "    \"\"\"\n",
    "\n",
    "    def __init__(self, nfeats=64, temperature=10000):\n",
    "        super().__init__()\n",
    "        self.nfeats = nfeats\n",
    "        self.temperature = temperature\n",
    "        self.scale = 2 * math.pi\n",
    "\n",
    "    def forward(self, tensor_list):\n",
    "        x = tensor_list\n",
    "        b, c, h, w = x.shape\n",
    "        mask = torch.zeros((b, h, w), dtype=torch.bool, device=x.device)\n",
    "        not_mask = ~mask\n",
    "        y_embed = not_mask.cumsum(1, dtype=torch.float32)\n",
    "        x_embed = not_mask.cumsum(2, dtype=torch.float32)\n",
    "\n",
    "        eps = 1e-6\n",
    "        y_embed = y_embed / (y_embed[:, -1:, :] + eps) * self.scale\n",
    "        x_embed = x_embed / (x_embed[:, :, -1:] + eps) * self.scale\n",
    "\n",
    "        dim_t = torch.arange(self.nfeats, dtype=torch.float32, device=x.device)\n",
    "        dim_t = self.temperature ** (2 * (dim_t // 2) / self.nfeats)\n",
    "\n",
    "        pos_x = x_embed[:, :, :, None] / dim_t\n",
    "        pos_y = y_embed[:, :, :, None] / dim_t\n",
    "        pos_x = torch.stack(\n",
    "            (pos_x[:, :, :, 0::2].sin(), pos_x[:, :, :, 1::2].cos()), dim=4\n",
    "        ).flatten(3)\n",
    "        pos_y = torch.stack(\n",
    "            (pos_y[:, :, :, 0::2].sin(), pos_y[:, :, :, 1::2].cos()), dim=4\n",
    "        ).flatten(3)\n",
    "        pos = torch.cat((pos_y, pos_x), dim=3).permute(0, 3, 1, 2)\n",
    "        return pos.to(x.dtype)\n",
    "\n",
    "\n",
    "class Identical(nn.Module):\n",
    "    def __init__(self):\n",
    "        super(Identical, self).__init__()\n",
    "\n",
    "    def forward(self, x):\n",
    "        return x\n",
    "\n",
    "\n",
    "class SlotModel(nn.Module):\n",
    "    \"\"\"\n",
    "    This function is heavily build on the function proposed in the article \"SCOUTER: Slot Attention-based Classifier for Explainable Image Recognition\", 2021\n",
    "    by Liangzhi Li and Bowen Wang and Manisha Verma and Yuta Nakashima and Ryo Kawasaki and Hajime Nagahara\n",
    "    from the book \"IEEE International Conference on Computer Vision (ICCV)\"\n",
    "    The original function can be found on https://github.com/wbw520/scouter\n",
    "    \"\"\"\n",
    "\n",
    "    def __init__(self, num_classes, hidden_dim, input_size):\n",
    "        super().__init__()\n",
    "        self.input_size = input_size\n",
    "        self.conv1x1 = nn.Conv2d(512, hidden_dim, kernel_size=(1, 1), stride=(1, 1))\n",
    "        N_steps = hidden_dim // 2\n",
    "        self.position_emb = PositionEmbeddingSine(N_steps)\n",
    "        self.slot = SlotAttention(num_classes, hidden_dim)\n",
    "\n",
    "    def forward(self, x):\n",
    "        x = x.view(x.size(0), *self.input_size)\n",
    "        x = self.conv1x1(x)\n",
    "        x = torch.relu(x)\n",
    "        pe = self.position_emb(x)\n",
    "        x_pe = x + pe\n",
    "\n",
    "        batch, channel, r, c = x.shape\n",
    "        x = x.reshape((batch, channel, -1)).permute((0, 2, 1))\n",
    "\n",
    "        x_pe = x_pe.reshape((batch, channel, -1)).permute((0, 2, 1))\n",
    "        x, attn_loss = self.slot(x_pe, x)\n",
    "\n",
    "        return x, attn_loss"
   ]
  },
  {
   "cell_type": "markdown",
   "metadata": {
    "id": "PkF4QmOcWM64"
   },
   "source": [
    "## Functions for training"
   ]
  },
  {
   "cell_type": "code",
   "execution_count": 16,
   "metadata": {
    "id": "WTs-JiwNawBw"
   },
   "outputs": [],
   "source": [
    "def evaluate(model, dataloader, criterion, slot, lambda_value):\n",
    "    model.eval()\n",
    "    torch.set_grad_enabled(False)\n",
    "    running_loss = 0.0\n",
    "    running_corrects = 0\n",
    "    for images, targets in dataloader:\n",
    "        images, targets = images.to(device, dtype=torch.float), targets.to(device)\n",
    "        if slot:\n",
    "            output, attn_loss = model(images)\n",
    "            n_loss = criterion(output, targets)\n",
    "            loss = n_loss + lambda_value * attn_loss\n",
    "        else:\n",
    "            output = model(images)\n",
    "            loss = criterion(output, targets)\n",
    "\n",
    "        topv, topi = torch.topk(output, 1)\n",
    "        running_loss += loss.item() * images.size(0)\n",
    "        running_corrects += torch.sum(topi.view(topi.size(0)) == targets)\n",
    "\n",
    "    loss = running_loss / len(dataloader.dataset)\n",
    "    acc = running_corrects.double() / len(dataloader.dataset)\n",
    "    return loss, acc"
   ]
  },
  {
   "cell_type": "code",
   "execution_count": 17,
   "metadata": {
    "id": "ICrF62rwpv18"
   },
   "outputs": [],
   "source": [
    "def train(model, dataloaders, nEpochs, optimizer, device, slot, lambda_value=None):\n",
    "    l_acc = {\"train\": [], \"val\": []}\n",
    "    l_loss = {\"train\": [], \"val\": []}\n",
    "    criterion = nn.CrossEntropyLoss()\n",
    "    print(\"Initial performance\")\n",
    "    for phase in [\"train\", \"val\"]:\n",
    "        init_loss, init_acc = evaluate(\n",
    "            model, dataloaders[phase], criterion, slot, lambda_value\n",
    "        )\n",
    "        l_acc[phase].append(init_acc.item())\n",
    "        l_loss[phase].append(init_loss)\n",
    "\n",
    "        print(f\"{phase}: Loss: {init_loss}, Accuracy: {init_acc}\")\n",
    "\n",
    "    print(\"Start training\")\n",
    "    best_loss = 100\n",
    "    for epoch in range(nEpochs):\n",
    "        print(\"Epoch: \", epoch)\n",
    "\n",
    "        for phase in [\"train\", \"val\"]:\n",
    "            running_loss = 0.0\n",
    "            running_corrects = 0\n",
    "\n",
    "            for images, targets in dataloaders[phase]:\n",
    "                if phase == \"train\":\n",
    "                    torch.set_grad_enabled(True)\n",
    "                    model.train()\n",
    "\n",
    "                else:\n",
    "                    torch.set_grad_enabled(False)\n",
    "                    model.eval()\n",
    "\n",
    "                images = images.float()\n",
    "                images = images.to(device)\n",
    "                targets = targets.to(device)\n",
    "                if slot:\n",
    "                    output, attn_loss = model(images)\n",
    "                    n_loss = criterion(output, targets)\n",
    "                    loss = n_loss + lambda_value * attn_loss\n",
    "                else:\n",
    "                    output = model(images)\n",
    "                    loss = criterion(output, targets)\n",
    "\n",
    "                if phase == \"train\":\n",
    "                    optimizer.zero_grad()\n",
    "                    loss.backward()\n",
    "                    optimizer.step()\n",
    "\n",
    "                topv, topi = torch.topk(output, 1)\n",
    "                running_loss += loss.item() * images.size(0)\n",
    "                running_corrects += torch.sum(topi.view(topi.size(0)) == targets)\n",
    "\n",
    "            epoch_loss = running_loss / len(dataloaders[phase].dataset)\n",
    "            epoch_acc = running_corrects.double() / len(dataloaders[phase].dataset)\n",
    "            l_loss[phase].append(epoch_loss)\n",
    "            l_acc[phase].append(epoch_acc.item())\n",
    "\n",
    "            if best_loss > epoch_loss and phase == \"val\":\n",
    "                best_loss = epoch_loss\n",
    "                end_model = copy.deepcopy(model.state_dict())\n",
    "\n",
    "            print(f\"{phase}: Loss: {epoch_loss}, Accuracy: {epoch_acc}\")\n",
    "\n",
    "    model.load_state_dict(end_model)\n",
    "    return model, l_loss, l_acc"
   ]
  },
  {
   "cell_type": "markdown",
   "metadata": {
    "id": "xD4hYbIBWT5v"
   },
   "source": [
    "## Train network"
   ]
  },
  {
   "cell_type": "code",
   "execution_count": 18,
   "metadata": {
    "colab": {
     "base_uri": "https://localhost:8080/",
     "height": 1000,
     "referenced_widgets": [
      "09f50aaeda684c83af12f459ab6954cc",
      "22be42dea7f34d64a7ab5081d914cc89",
      "cbfa215e96da401e9bd757a48a326460",
      "a33f1d108c78453e8f2f3988aa69a322",
      "c1731477b8614a578427bf79f500d8d9",
      "c035a9a9cd8943daa888824b7233cd95",
      "01fea09eb42a479584916d8f853dfe61",
      "8daf1d97e2ff458ca9c54bdba894e84e",
      "7d8bfa9cebf443ebae19386972ae0465",
      "bbd234ce427f491abb421179b1820adf",
      "c1db9f93ffee47d4900b1fc44ef7626c"
     ]
    },
    "id": "7Tef7oes6XUq",
    "outputId": "2de2de31-b5b0-4947-ced4-0b629cfaaefe"
   },
   "outputs": [
    {
     "name": "stderr",
     "output_type": "stream",
     "text": [
      "/usr/local/lib/python3.8/dist-packages/torchvision/models/_utils.py:208: UserWarning: The parameter 'pretrained' is deprecated since 0.13 and may be removed in the future, please use 'weights' instead.\n",
      "  warnings.warn(\n",
      "/usr/local/lib/python3.8/dist-packages/torchvision/models/_utils.py:223: UserWarning: Arguments other than a weight enum or `None` for 'weights' are deprecated since 0.13 and may be removed in the future. The current behavior is equivalent to passing `weights=ResNet18_Weights.IMAGENET1K_V1`. You can also use `weights=ResNet18_Weights.DEFAULT` to get the most up-to-date weights.\n",
      "  warnings.warn(msg)\n",
      "Downloading: \"https://download.pytorch.org/models/resnet18-f37072fd.pth\" to /root/.cache/torch/hub/checkpoints/resnet18-f37072fd.pth\n"
     ]
    },
    {
     "data": {
      "application/vnd.jupyter.widget-view+json": {
       "model_id": "09f50aaeda684c83af12f459ab6954cc",
       "version_major": 2,
       "version_minor": 0
      },
      "text/plain": [
       "  0%|          | 0.00/44.7M [00:00<?, ?B/s]"
      ]
     },
     "metadata": {},
     "output_type": "display_data"
    },
    {
     "name": "stdout",
     "output_type": "stream",
     "text": [
      "Parameters trained:\n",
      "layer4.0.conv1.weight\n",
      "layer4.0.bn1.weight\n",
      "layer4.0.bn1.bias\n",
      "layer4.0.conv2.weight\n",
      "layer4.0.bn2.weight\n",
      "layer4.0.bn2.bias\n",
      "layer4.0.downsample.0.weight\n",
      "layer4.0.downsample.1.weight\n",
      "layer4.0.downsample.1.bias\n",
      "layer4.1.conv1.weight\n",
      "layer4.1.bn1.weight\n",
      "layer4.1.bn1.bias\n",
      "layer4.1.conv2.weight\n",
      "layer4.1.bn2.weight\n",
      "layer4.1.bn2.bias\n",
      "fc.conv1x1.weight\n",
      "fc.conv1x1.bias\n",
      "fc.slot.initial_slots\n",
      "fc.slot.FC1.0.weight\n",
      "fc.slot.FC1.0.bias\n",
      "fc.slot.FC1.2.weight\n",
      "fc.slot.FC1.2.bias\n",
      "fc.slot.FC1.4.weight\n",
      "fc.slot.FC1.4.bias\n",
      "fc.slot.FC2.0.weight\n",
      "fc.slot.FC2.0.bias\n",
      "fc.slot.FC2.2.weight\n",
      "fc.slot.FC2.2.bias\n",
      "fc.slot.FC2.4.weight\n",
      "fc.slot.FC2.4.bias\n",
      "fc.slot.gru.weight_ih_l0\n",
      "fc.slot.gru.weight_hh_l0\n",
      "fc.slot.gru.bias_ih_l0\n",
      "fc.slot.gru.bias_hh_l0\n",
      "Initial performance\n",
      "train: Loss: 0.940924485536036, Accuracy: 0.519807156133829\n",
      "val: Loss: 0.9422792609912172, Accuracy: 0.523701638201464\n",
      "Start training\n",
      "Epoch:  0\n",
      "train: Loss: 0.65248984398258, Accuracy: 0.6276138475836431\n",
      "val: Loss: 0.4844878737978006, Accuracy: 0.7771000348553503\n",
      "Epoch:  1\n",
      "train: Loss: 0.41964267105985864, Accuracy: 0.8129937267657992\n",
      "val: Loss: 0.43381049247434555, Accuracy: 0.7994074590449634\n",
      "Epoch:  2\n",
      "train: Loss: 0.2656310183553503, Accuracy: 0.8919900092936802\n",
      "val: Loss: 0.4963062345129806, Accuracy: 0.7999302892994075\n",
      "Epoch:  3\n",
      "train: Loss: 0.10143472573401399, Accuracy: 0.963551347583643\n",
      "val: Loss: 0.7214030636939989, Accuracy: 0.7840711049146044\n",
      "Epoch:  4\n",
      "train: Loss: 0.0497471051201156, Accuracy: 0.983358503717472\n",
      "val: Loss: 0.9056892991065979, Accuracy: 0.7924363889857093\n",
      "Epoch:  5\n",
      "train: Loss: 0.027521761669333743, Accuracy: 0.9914323884758364\n",
      "val: Loss: 1.0847456754396585, Accuracy: 0.7851167654234925\n"
     ]
    }
   ],
   "source": [
    "if AVA == False:\n",
    "    nclass = 10\n",
    "else:\n",
    "    nclass = 2\n",
    "\n",
    "dataloaders = {\"train\": trainloader, \"val\": valloader}\n",
    "device = \"cuda\" if torch.cuda.is_available() else \"cpu\"\n",
    "resnet = models.resnet18(pretrained=True)\n",
    "num_fts = resnet.fc.in_features\n",
    "\n",
    "for name, param in resnet.named_parameters():\n",
    "    if \"layer4\" not in name:\n",
    "        param.requires_grad = False\n",
    "\n",
    "resnet.avgpool = Identical()\n",
    "resnet.fc = SlotModel(num_classes=nclass, hidden_dim=128, input_size=(512,7,7))\n",
    "resnet.to(device)\n",
    "\n",
    "print('Parameters trained:')\n",
    "params_to_update = []\n",
    "for name, param in resnet.named_parameters():\n",
    "    if param.requires_grad:\n",
    "        print(name)\n",
    "        params_to_update.append(param)\n",
    "\n",
    "optimizer = torch.optim.Adam(params_to_update, lr=1e-4)        \n",
    "model, h_loss, h_accuracy = train(model=resnet, dataloaders=dataloaders, nEpochs=6, optimizer=optimizer, device=device, slot=True, lambda_value=1)"
   ]
  },
  {
   "cell_type": "code",
   "execution_count": 22,
   "metadata": {
    "colab": {
     "base_uri": "https://localhost:8080/",
     "height": 361
    },
    "id": "qZC9A_dTv46j",
    "outputId": "0318bcab-1b9e-46a9-84cd-3bb70db28366"
   },
   "outputs": [
    {
     "data": {
      "image/png": "[encoded data removed]",
      "text/plain": [
       "<Figure size 576x396 with 1 Axes>"
      ]
     },
     "metadata": {},
     "output_type": "display_data"
    }
   ],
   "source": [
    "with plt.style.context('seaborn'):\n",
    "    plt.plot(h_loss['val'], label=\"Validation\")\n",
    "    plt.plot(h_loss['train'], label=\"Training\")\n",
    "    plt.xlabel(\"Epoch\")\n",
    "    plt.ylabel(\"Loss\")\n",
    "    plt.vlines(2, 0, 1.2, color='red', linestyle='dotted') \n",
    "    plt.text(2.1, 0., 'Stopped training', color='red')\n",
    "    plt.legend()\n",
    "    plt.savefig(f\"plots/slot_loss.png\")"
   ]
  },
  {
   "cell_type": "code",
   "execution_count": 23,
   "metadata": {
    "colab": {
     "base_uri": "https://localhost:8080/",
     "height": 361
    },
    "id": "2UCOvbHoJJuI",
    "outputId": "6bd45a05-6a5c-4654-c3da-2b56b9febd6e"
   },
   "outputs": [
    {
     "data": {
      "image/png": "[encoded data removed]",
      "text/plain": [
       "<Figure size 576x396 with 1 Axes>"
      ]
     },
     "metadata": {},
     "output_type": "display_data"
    }
   ],
   "source": [
    "with plt.style.context('seaborn'):\n",
    "    plt.plot(h_accuracy['val'], label=\"Validation\")\n",
    "    plt.plot(h_accuracy['train'], label=\"Training\")\n",
    "    plt.xlabel(\"Epoch\")\n",
    "    plt.ylabel(\"Accuracy\")\n",
    "    plt.vlines(2, 0, 1.2, color='red', linestyle='dotted') \n",
    "    plt.text(2.1, 0.05, 'Stopped training', color='red')\n",
    "    plt.legend()\n",
    "    plt.savefig(f\"plots/slot_acc.png\")"
   ]
  },
  {
   "cell_type": "code",
   "execution_count": 24,
   "metadata": {
    "colab": {
     "base_uri": "https://localhost:8080/"
    },
    "id": "lc35ndqZGikb",
    "outputId": "e44cd1f6-82f6-4b64-d79e-7abbce29d35a"
   },
   "outputs": [
    {
     "data": {
      "text/plain": [
       "(0.45147878736501623, tensor(0.7926, device='cuda:0', dtype=torch.float64))"
      ]
     },
     "execution_count": 24,
     "metadata": {},
     "output_type": "execute_result"
    }
   ],
   "source": [
    "criterion = nn.CrossEntropyLoss()\n",
    "evaluate(model, testloader, criterion, slot=True, lambda_value=1)"
   ]
  },
  {
   "cell_type": "code",
   "execution_count": null,
   "metadata": {
    "id": "6Bj-ksv4Oqp2"
   },
   "outputs": [],
   "source": [
    "torch.save(model.state_dict(), f'Slot_AVA_model.pth')"
   ]
  },
  {
   "cell_type": "code",
   "execution_count": 25,
   "metadata": {
    "id": "04Mb--aPHJVU"
   },
   "outputs": [],
   "source": [
    "def apply_colormap_on_image(org_im, activation, colormap_name):\n",
    "    \"\"\"\n",
    "    This function is the same as the function proposed in the article \"SCOUTER: Slot Attention-based Classifier for Explainable Image Recognition\", 2021\n",
    "    by Liangzhi Li and Bowen Wang and Manisha Verma and Yuta Nakashima and Ryo Kawasaki and Hajime Nagahara\n",
    "    from the book \"IEEE International Conference on Computer Vision (ICCV)\"\n",
    "    The original function can be found on https://github.com/wbw520/scouter\n",
    "    \"\"\"\n",
    "    color_map = mpl_color_map.get_cmap(colormap_name)\n",
    "    no_trans_heatmap = color_map(activation)\n",
    "    heatmap = copy.copy(no_trans_heatmap)\n",
    "    heatmap[:, :, 3] = 0.4\n",
    "    heatmap = Image.fromarray((heatmap * 255).astype(np.uint8))\n",
    "    no_trans_heatmap = Image.fromarray((no_trans_heatmap * 255).astype(np.uint8))\n",
    "    heatmap_on_image = Image.new(\"RGBA\", (224,224))\n",
    "    heatmap_on_image = Image.alpha_composite(heatmap_on_image, org_im.convert(\"RGBA\"))\n",
    "    heatmap_on_image = Image.alpha_composite(heatmap_on_image, heatmap)\n",
    "    return no_trans_heatmap, heatmap_on_image\n"
   ]
  },
  {
   "cell_type": "code",
   "execution_count": 26,
   "metadata": {
    "id": "3reVc3Z1Wqcn"
   },
   "outputs": [],
   "source": [
    "def eval_attn(model, imageid, device, nclass):\n",
    "    trans = transforms.Compose([transforms.Resize([224, 224]),\n",
    "            transforms.Normalize((0.5, 0.5, 0.5), (0.5, 0.5, 0.5))])\n",
    "    model.eval()\n",
    "    image = read_image(f'dataset_class/{imageid}')\n",
    "    image = image.to(torch.float64)/255\n",
    "    image = trans(image)\n",
    "    image = image.float()\n",
    "    image = image.to(device)\n",
    "    out, att = model(image.view(1,3,224,224))\n",
    "    print(f'prediction: {out.cpu().numpy()[0]}')\n",
    "    for id in range(nclass):\n",
    "        image_raw = Image.open(f'dataset_class/{imageid}').convert('RGB')\n",
    "        image_raw = image_raw.resize((224,224), resample=Image.BILINEAR)\n",
    "        slot_image = np.array(Image.open(f'slot_{id}.png').resize((224,224), resample=Image.BILINEAR), dtype=np.uint8)\n",
    "        heatmap_only, heatmap_on_image = apply_colormap_on_image(image_raw, slot_image, 'jet')\n",
    "        heatmap_on_image.save(f'slot_mask_{id}.png')   \n"
   ]
  },
  {
   "cell_type": "code",
   "execution_count": 70,
   "metadata": {
    "colab": {
     "base_uri": "https://localhost:8080/"
    },
    "id": "j9uva7Thajil",
    "outputId": "635cbb9e-9a26-4585-ff18-8bf887739bbc"
   },
   "outputs": [
    {
     "name": "stdout",
     "output_type": "stream",
     "text": [
      "prediction: [3.5300288 3.2474756]\n"
     ]
    }
   ],
   "source": [
    "eval_attn(model, '1384.jpg', device, nclass)"
   ]
  },
  {
   "cell_type": "code",
   "execution_count": 64,
   "metadata": {
    "colab": {
     "base_uri": "https://localhost:8080/"
    },
    "id": "hRJOluhwuSVu",
    "outputId": "d97ad209-4408-4140-f840-c20c6b0dd047"
   },
   "outputs": [
    {
     "name": "stdout",
     "output_type": "stream",
     "text": [
      "('1384.jpg', 1)\n",
      "('1393.jpg', 1)\n",
      "('641614.jpg', 1)\n",
      "('642134.jpg', 1)\n",
      "('642954.jpg', 1)\n",
      "('642996.jpg', 1)\n"
     ]
    }
   ],
   "source": [
    "for i in range(60,70):\n",
    "    k = test_dataset.get_name(i)\n",
    "    if k[1] == 1:\n",
    "        print(k)"
   ]
  }
 ],
 "metadata": {
  "accelerator": "GPU",
  "colab": {
   "provenance": []
  },
  "gpuClass": "standard",
  "kernelspec": {
   "display_name": "Python 3",
   "language": "python",
   "name": "python3"
  },
  "language_info": {
   "codemirror_mode": {
    "name": "ipython",
    "version": 3
   },
   "file_extension": ".py",
   "mimetype": "text/x-python",
   "name": "python",
   "nbconvert_exporter": "python",
   "pygments_lexer": "ipython3",
   "version": "3.9.1"
  },
  "widgets": {
   "application/vnd.jupyter.widget-state+json": {
    "01fea09eb42a479584916d8f853dfe61": {
     "model_module": "@jupyter-widgets/controls",
     "model_module_version": "1.5.0",
     "model_name": "DescriptionStyleModel",
     "state": {
      "_model_module": "@jupyter-widgets/controls",
      "_model_module_version": "1.5.0",
      "_model_name": "DescriptionStyleModel",
      "_view_count": null,
      "_view_module": "@jupyter-widgets/base",
      "_view_module_version": "1.2.0",
      "_view_name": "StyleView",
      "description_width": ""
     }
    },
    "09f50aaeda684c83af12f459ab6954cc": {
     "model_module": "@jupyter-widgets/controls",
     "model_module_version": "1.5.0",
     "model_name": "HBoxModel",
     "state": {
      "_dom_classes": [],
      "_model_module": "@jupyter-widgets/controls",
      "_model_module_version": "1.5.0",
      "_model_name": "HBoxModel",
      "_view_count": null,
      "_view_module": "@jupyter-widgets/controls",
      "_view_module_version": "1.5.0",
      "_view_name": "HBoxView",
      "box_style": "",
      "children": [
       "IPY_MODEL_22be42dea7f34d64a7ab5081d914cc89",
       "IPY_MODEL_cbfa215e96da401e9bd757a48a326460",
       "IPY_MODEL_a33f1d108c78453e8f2f3988aa69a322"
      ],
      "layout": "IPY_MODEL_c1731477b8614a578427bf79f500d8d9"
     }
    },
    "22be42dea7f34d64a7ab5081d914cc89": {
     "model_module": "@jupyter-widgets/controls",
     "model_module_version": "1.5.0",
     "model_name": "HTMLModel",
     "state": {
      "_dom_classes": [],
      "_model_module": "@jupyter-widgets/controls",
      "_model_module_version": "1.5.0",
      "_model_name": "HTMLModel",
      "_view_count": null,
      "_view_module": "@jupyter-widgets/controls",
      "_view_module_version": "1.5.0",
      "_view_name": "HTMLView",
      "description": "",
      "description_tooltip": null,
      "layout": "IPY_MODEL_c035a9a9cd8943daa888824b7233cd95",
      "placeholder": "​",
      "style": "IPY_MODEL_01fea09eb42a479584916d8f853dfe61",
      "value": "100%"
     }
    },
    "7d8bfa9cebf443ebae19386972ae0465": {
     "model_module": "@jupyter-widgets/controls",
     "model_module_version": "1.5.0",
     "model_name": "ProgressStyleModel",
     "state": {
      "_model_module": "@jupyter-widgets/controls",
      "_model_module_version": "1.5.0",
      "_model_name": "ProgressStyleModel",
      "_view_count": null,
      "_view_module": "@jupyter-widgets/base",
      "_view_module_version": "1.2.0",
      "_view_name": "StyleView",
      "bar_color": null,
      "description_width": ""
     }
    },
    "8daf1d97e2ff458ca9c54bdba894e84e": {
     "model_module": "@jupyter-widgets/base",
     "model_module_version": "1.2.0",
     "model_name": "LayoutModel",
     "state": {
      "_model_module": "@jupyter-widgets/base",
      "_model_module_version": "1.2.0",
      "_model_name": "LayoutModel",
      "_view_count": null,
      "_view_module": "@jupyter-widgets/base",
      "_view_module_version": "1.2.0",
      "_view_name": "LayoutView",
      "align_content": null,
      "align_items": null,
      "align_self": null,
      "border": null,
      "bottom": null,
      "display": null,
      "flex": null,
      "flex_flow": null,
      "grid_area": null,
      "grid_auto_columns": null,
      "grid_auto_flow": null,
      "grid_auto_rows": null,
      "grid_column": null,
      "grid_gap": null,
      "grid_row": null,
      "grid_template_areas": null,
      "grid_template_columns": null,
      "grid_template_rows": null,
      "height": null,
      "justify_content": null,
      "justify_items": null,
      "left": null,
      "margin": null,
      "max_height": null,
      "max_width": null,
      "min_height": null,
      "min_width": null,
      "object_fit": null,
      "object_position": null,
      "order": null,
      "overflow": null,
      "overflow_x": null,
      "overflow_y": null,
      "padding": null,
      "right": null,
      "top": null,
      "visibility": null,
      "width": null
     }
    },
    "a33f1d108c78453e8f2f3988aa69a322": {
     "model_module": "@jupyter-widgets/controls",
     "model_module_version": "1.5.0",
     "model_name": "HTMLModel",
     "state": {
      "_dom_classes": [],
      "_model_module": "@jupyter-widgets/controls",
      "_model_module_version": "1.5.0",
      "_model_name": "HTMLModel",
      "_view_count": null,
      "_view_module": "@jupyter-widgets/controls",
      "_view_module_version": "1.5.0",
      "_view_name": "HTMLView",
      "description": "",
      "description_tooltip": null,
      "layout": "IPY_MODEL_bbd234ce427f491abb421179b1820adf",
      "placeholder": "​",
      "style": "IPY_MODEL_c1db9f93ffee47d4900b1fc44ef7626c",
      "value": " 44.7M/44.7M [00:00&lt;00:00, 51.0MB/s]"
     }
    },
    "bbd234ce427f491abb421179b1820adf": {
     "model_module": "@jupyter-widgets/base",
     "model_module_version": "1.2.0",
     "model_name": "LayoutModel",
     "state": {
      "_model_module": "@jupyter-widgets/base",
      "_model_module_version": "1.2.0",
      "_model_name": "LayoutModel",
      "_view_count": null,
      "_view_module": "@jupyter-widgets/base",
      "_view_module_version": "1.2.0",
      "_view_name": "LayoutView",
      "align_content": null,
      "align_items": null,
      "align_self": null,
      "border": null,
      "bottom": null,
      "display": null,
      "flex": null,
      "flex_flow": null,
      "grid_area": null,
      "grid_auto_columns": null,
      "grid_auto_flow": null,
      "grid_auto_rows": null,
      "grid_column": null,
      "grid_gap": null,
      "grid_row": null,
      "grid_template_areas": null,
      "grid_template_columns": null,
      "grid_template_rows": null,
      "height": null,
      "justify_content": null,
      "justify_items": null,
      "left": null,
      "margin": null,
      "max_height": null,
      "max_width": null,
      "min_height": null,
      "min_width": null,
      "object_fit": null,
      "object_position": null,
      "order": null,
      "overflow": null,
      "overflow_x": null,
      "overflow_y": null,
      "padding": null,
      "right": null,
      "top": null,
      "visibility": null,
      "width": null
     }
    },
    "c035a9a9cd8943daa888824b7233cd95": {
     "model_module": "@jupyter-widgets/base",
     "model_module_version": "1.2.0",
     "model_name": "LayoutModel",
     "state": {
      "_model_module": "@jupyter-widgets/base",
      "_model_module_version": "1.2.0",
      "_model_name": "LayoutModel",
      "_view_count": null,
      "_view_module": "@jupyter-widgets/base",
      "_view_module_version": "1.2.0",
      "_view_name": "LayoutView",
      "align_content": null,
      "align_items": null,
      "align_self": null,
      "border": null,
      "bottom": null,
      "display": null,
      "flex": null,
      "flex_flow": null,
      "grid_area": null,
      "grid_auto_columns": null,
      "grid_auto_flow": null,
      "grid_auto_rows": null,
      "grid_column": null,
      "grid_gap": null,
      "grid_row": null,
      "grid_template_areas": null,
      "grid_template_columns": null,
      "grid_template_rows": null,
      "height": null,
      "justify_content": null,
      "justify_items": null,
      "left": null,
      "margin": null,
      "max_height": null,
      "max_width": null,
      "min_height": null,
      "min_width": null,
      "object_fit": null,
      "object_position": null,
      "order": null,
      "overflow": null,
      "overflow_x": null,
      "overflow_y": null,
      "padding": null,
      "right": null,
      "top": null,
      "visibility": null,
      "width": null
     }
    },
    "c1731477b8614a578427bf79f500d8d9": {
     "model_module": "@jupyter-widgets/base",
     "model_module_version": "1.2.0",
     "model_name": "LayoutModel",
     "state": {
      "_model_module": "@jupyter-widgets/base",
      "_model_module_version": "1.2.0",
      "_model_name": "LayoutModel",
      "_view_count": null,
      "_view_module": "@jupyter-widgets/base",
      "_view_module_version": "1.2.0",
      "_view_name": "LayoutView",
      "align_content": null,
      "align_items": null,
      "align_self": null,
      "border": null,
      "bottom": null,
      "display": null,
      "flex": null,
      "flex_flow": null,
      "grid_area": null,
      "grid_auto_columns": null,
      "grid_auto_flow": null,
      "grid_auto_rows": null,
      "grid_column": null,
      "grid_gap": null,
      "grid_row": null,
      "grid_template_areas": null,
      "grid_template_columns": null,
      "grid_template_rows": null,
      "height": null,
      "justify_content": null,
      "justify_items": null,
      "left": null,
      "margin": null,
      "max_height": null,
      "max_width": null,
      "min_height": null,
      "min_width": null,
      "object_fit": null,
      "object_position": null,
      "order": null,
      "overflow": null,
      "overflow_x": null,
      "overflow_y": null,
      "padding": null,
      "right": null,
      "top": null,
      "visibility": null,
      "width": null
     }
    },
    "c1db9f93ffee47d4900b1fc44ef7626c": {
     "model_module": "@jupyter-widgets/controls",
     "model_module_version": "1.5.0",
     "model_name": "DescriptionStyleModel",
     "state": {
      "_model_module": "@jupyter-widgets/controls",
      "_model_module_version": "1.5.0",
      "_model_name": "DescriptionStyleModel",
      "_view_count": null,
      "_view_module": "@jupyter-widgets/base",
      "_view_module_version": "1.2.0",
      "_view_name": "StyleView",
      "description_width": ""
     }
    },
    "cbfa215e96da401e9bd757a48a326460": {
     "model_module": "@jupyter-widgets/controls",
     "model_module_version": "1.5.0",
     "model_name": "FloatProgressModel",
     "state": {
      "_dom_classes": [],
      "_model_module": "@jupyter-widgets/controls",
      "_model_module_version": "1.5.0",
      "_model_name": "FloatProgressModel",
      "_view_count": null,
      "_view_module": "@jupyter-widgets/controls",
      "_view_module_version": "1.5.0",
      "_view_name": "ProgressView",
      "bar_style": "success",
      "description": "",
      "description_tooltip": null,
      "layout": "IPY_MODEL_8daf1d97e2ff458ca9c54bdba894e84e",
      "max": 46830571,
      "min": 0,
      "orientation": "horizontal",
      "style": "IPY_MODEL_7d8bfa9cebf443ebae19386972ae0465",
      "value": 46830571
     }
    }
   }
  }
 },
 "nbformat": 4,
 "nbformat_minor": 4
}
